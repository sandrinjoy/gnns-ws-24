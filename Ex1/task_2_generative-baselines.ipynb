{
 "cells": [
  {
   "cell_type": "markdown",
   "metadata": {},
   "source": [
    "## Task 2"
   ]
  },
  {
   "cell_type": "code",
   "execution_count": 1,
   "metadata": {},
   "outputs": [],
   "source": [
    "import numpy as np\n",
    "import matplotlib.pyplot as plt\n",
    "\n",
    "from sklearn.datasets import load_digits\n",
    "from sklearn.model_selection import train_test_split\n",
    "from sklearn.decomposition import PCA"
   ]
  },
  {
   "cell_type": "markdown",
   "metadata": {},
   "source": [
    "### Data set"
   ]
  },
  {
   "cell_type": "code",
   "execution_count": 2,
   "metadata": {},
   "outputs": [],
   "source": [
    "# Load the digits dataset\n",
    "digits = load_digits()\n",
    "X_digits, y_digits = digits.data, digits.target"
   ]
  },
  {
   "cell_type": "markdown",
   "metadata": {},
   "source": [
    "##### Reduce data dimentionaity to for 2-D histogram"
   ]
  },
  {
   "cell_type": "code",
   "execution_count": 3,
   "metadata": {},
   "outputs": [],
   "source": [
    "# Reduce dimensionality to 2 from 64 for 2-D histogram\n",
    "pca = PCA(n_components=2)\n",
    "X_digits_2d = pca.fit_transform(X_digits)\n"
   ]
  },
  {
   "cell_type": "markdown",
   "metadata": {},
   "source": [
    "### MMD calculation"
   ]
  },
  {
   "cell_type": "code",
   "execution_count": 4,
   "metadata": {},
   "outputs": [],
   "source": [
    "def squared_exponential_kernel(x, y, sigma=1.0):\n",
    "    return np.exp(-np.linalg.norm(x - y) ** 2 / (2 * sigma ** 2))\n",
    "\n",
    "def inverse_multi_quadratic_kernel(x, y, c=1.0):\n",
    "    return 1 / np.sqrt(np.linalg.norm(x - y) ** 2 + c ** 2)\n",
    "\n",
    "def mmd(X, Y, kernel_func, **kwargs):\n",
    "    m, n = len(X), len(Y)\n",
    "    XX = np.mean([kernel_func(x, x_prime, **kwargs) for x in X for x_prime in X])\n",
    "    YY = np.mean([kernel_func(y, y_prime, **kwargs) for y in Y for y_prime in Y])\n",
    "    XY = np.mean([kernel_func(x, y, **kwargs) for x in X for y in Y])\n",
    "    return XX + YY - 2 * XY\n"
   ]
  },
  {
   "cell_type": "markdown",
   "metadata": {},
   "source": [
    "### 2-d histogram"
   ]
  },
  {
   "cell_type": "code",
   "execution_count": 5,
   "metadata": {},
   "outputs": [],
   "source": [
    "# Define histogram bin size as a hyperparameter\n",
    "def fit_2d_histogram(X, bin_size=16):\n",
    "    hist, edges = np.histogramdd(X, bins=[bin_size] * X.shape[1], density=True)\n",
    "    return hist, edges\n",
    "\n",
    "# Example: Fit histogram with bin size 16\n",
    "histogram, edges = fit_2d_histogram(X_digits_2d, bin_size=10)"
   ]
  },
  {
   "cell_type": "code",
   "execution_count": 6,
   "metadata": {},
   "outputs": [],
   "source": [
    "def generate_histogram_samples(histogram, edges, n_samples):\n",
    "    dim = histogram.ndim\n",
    "    samples = []\n",
    "    \n",
    "    # Normalize the histogram to get probabilities\n",
    "    histogram_probs = histogram / histogram.sum()\n",
    "\n",
    "    for _ in range(n_samples):\n",
    "        sample = []\n",
    "        for d in range(dim):\n",
    "            # Marginalize histogram along all other dimensions\n",
    "            marginal_probs = histogram_probs.sum(axis=tuple(i for i in range(dim) if i != d))\n",
    "            \n",
    "            # Normalize marginal probabilities to sum to 1\n",
    "            marginal_probs /= marginal_probs.sum()\n",
    "            \n",
    "            # Choose a bin based on the marginal probabilities\n",
    "            bin_idx = np.random.choice(len(edges[d]) - 1, p=marginal_probs)\n",
    "            \n",
    "            # Sample uniformly within the chosen bin\n",
    "            sample.append(np.random.uniform(edges[d][bin_idx], edges[d][bin_idx + 1]))\n",
    "        \n",
    "        samples.append(sample)\n",
    "    return np.array(samples)\n"
   ]
  },
  {
   "cell_type": "markdown",
   "metadata": {},
   "source": [
    "### MMD for histogram"
   ]
  },
  {
   "cell_type": "code",
   "execution_count": 7,
   "metadata": {},
   "outputs": [],
   "source": [
    "X_train, X_test, y_train, y_test = train_test_split(X_digits, y_digits, train_size=0.75, random_state=0)\n",
    "\n",
    "# Evaluate MMD for histogram model\n",
    "generated_data_2d = generate_histogram_samples(histogram, edges, n_samples=1000)\n",
    "\n",
    "# Map 2D samples back to the original 64D space using the inverse PCA transform\n",
    "generated_data_64d = pca.inverse_transform(generated_data_2d)\n",
    "\n",
    "mmd_histogram = mmd(X_test, generated_data_64d, squared_exponential_kernel)"
   ]
  },
  {
   "cell_type": "markdown",
   "metadata": {},
   "source": [
    "### Single Gaussian"
   ]
  },
  {
   "cell_type": "code",
   "execution_count": 8,
   "metadata": {},
   "outputs": [],
   "source": [
    "def fit_single_gaussian(X):\n",
    "    mean = np.mean(X, axis=0)\n",
    "    covariance = np.cov(X, rowvar=False)\n",
    "    return mean, covariance\n",
    "\n",
    "# Fit single Gaussian model\n",
    "mean, covariance = fit_single_gaussian(X_train)\n"
   ]
  },
  {
   "cell_type": "code",
   "execution_count": 9,
   "metadata": {},
   "outputs": [],
   "source": [
    "def generate_gaussian_samples(mean, covariance, n_samples):\n",
    "    return np.random.multivariate_normal(mean, covariance, n_samples)\n",
    "\n",
    "# Generate data from single Gaussian model\n",
    "generated_data_gaussian = generate_gaussian_samples(mean, covariance, 1000)\n"
   ]
  },
  {
   "cell_type": "markdown",
   "metadata": {},
   "source": [
    "### MMD for Single Gaussian"
   ]
  },
  {
   "cell_type": "code",
   "execution_count": 10,
   "metadata": {},
   "outputs": [],
   "source": [
    "# Evaluate MMD for single Gaussian model\n",
    "mmd_gaussian = mmd(X_test, generated_data_gaussian, squared_exponential_kernel)"
   ]
  },
  {
   "cell_type": "markdown",
   "metadata": {},
   "source": [
    "### Results"
   ]
  },
  {
   "cell_type": "code",
   "execution_count": 11,
   "metadata": {},
   "outputs": [
    {
     "name": "stdout",
     "output_type": "stream",
     "text": [
      "MMD for 2D Histogram Model: 0.005960365773787073\n",
      "MMD for Single Gaussian Model: 0.0032222222222222222\n"
     ]
    },
    {
     "data": {
      "image/png": "[encoded data removed]",
      "text/plain": [
       "<Figure size 1000x200 with 10 Axes>"
      ]
     },
     "metadata": {},
     "output_type": "display_data"
    },
    {
     "data": {
      "image/png": "[encoded data removed]",
      "text/plain": [
       "<Figure size 1000x200 with 10 Axes>"
      ]
     },
     "metadata": {},
     "output_type": "display_data"
    }
   ],
   "source": [
    "# Print MMD results\n",
    "print(f\"MMD for 2D Histogram Model: {mmd_histogram}\")\n",
    "print(f\"MMD for Single Gaussian Model: {mmd_gaussian}\")\n",
    "\n",
    "# Function to plot generated samples as images\n",
    "def plot_generated_digits(data, title=\"Generated Data\"):\n",
    "    n = data.shape[0]\n",
    "    plt.figure(figsize=(10, 2))\n",
    "    for i in range(n):\n",
    "        plt.subplot(1, n, i + 1)\n",
    "        plt.imshow(data[i].reshape(8, 8), cmap=\"gray\")\n",
    "        plt.axis(\"off\")\n",
    "    plt.suptitle(title)\n",
    "    plt.show()\n",
    "\n",
    "# Plot the generated samples in 8x8 grid format\n",
    "plot_generated_digits(generated_data_64d[:10], \"Generated Data from 2D Histogram\")\n",
    "plot_generated_digits(generated_data_gaussian[:10], \"Generated Data from Single Gaussian\")\n",
    "\n"
   ]
  }
 ],
 "metadata": {
  "kernelspec": {
   "display_name": "Python 3",
   "language": "python",
   "name": "python3"
  },
  "language_info": {
   "codemirror_mode": {
    "name": "ipython",
    "version": 3
   },
   "file_extension": ".py",
   "mimetype": "text/x-python",
   "name": "python",
   "nbconvert_exporter": "python",
   "pygments_lexer": "ipython3",
   "version": "3.12.7"
  }
 },
 "nbformat": 4,
 "nbformat_minor": 2
}
