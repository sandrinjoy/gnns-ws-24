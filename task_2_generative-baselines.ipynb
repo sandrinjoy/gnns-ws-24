{
 "cells": [
  {
   "cell_type": "markdown",
   "metadata": {},
   "source": [
    "## Task 2"
   ]
  },
  {
   "cell_type": "code",
   "execution_count": 1,
   "metadata": {},
   "outputs": [],
   "source": [
    "import numpy as np\n",
    "import matplotlib.pyplot as plt\n",
    "\n",
    "from sklearn.datasets import load_digits\n",
    "from sklearn.model_selection import train_test_split\n",
    "from sklearn.decomposition import PCA\n",
    "from sklearn.mixture import GaussianMixture\n",
    "from sklearn.neighbors import KernelDensity\n",
    "from sklearn.ensemble import RandomForestClassifier\n",
    "from sklearn.metrics import accuracy_score"
   ]
  },
  {
   "cell_type": "markdown",
   "metadata": {},
   "source": [
    "### Data set"
   ]
  },
  {
   "cell_type": "code",
   "execution_count": 2,
   "metadata": {},
   "outputs": [],
   "source": [
    "# Load the digits dataset\n",
    "digits = load_digits()\n",
    "x_digits, y_digits = digits.data, digits.target"
   ]
  },
  {
   "cell_type": "markdown",
   "metadata": {},
   "source": [
    "##### Reduce data dimentionaity to for 2-D histogram"
   ]
  },
  {
   "cell_type": "code",
   "execution_count": 3,
   "metadata": {},
   "outputs": [],
   "source": [
    "# Reduce dimensionality to 2 from 64 for 2-D histogram\n",
    "pca = PCA(n_components=2)\n",
    "x_digits_2d = pca.fit_transform(x_digits)\n"
   ]
  },
  {
   "cell_type": "markdown",
   "metadata": {},
   "source": [
    "### MMD calculation"
   ]
  },
  {
   "cell_type": "code",
   "execution_count": null,
   "metadata": {},
   "outputs": [],
   "source": []
  },
  {
   "cell_type": "markdown",
   "metadata": {},
   "source": [
    "### 2-d histogram"
   ]
  },
  {
   "cell_type": "code",
   "execution_count": 4,
   "metadata": {},
   "outputs": [],
   "source": [
    "# Define histogram bin size as a hyperparameter\n",
    "def fit_2d_histogram(x, bin_size):\n",
    "    hist, edges = np.histogramdd(x, bins=[bin_size] * x.shape[1], density=True)\n",
    "    return hist, edges\n",
    "\n",
    "def generate_histogram_samples(histogram, edges, n_samples):\n",
    "    dim = histogram.ndim\n",
    "    samples = []\n",
    "    \n",
    "    # Normalize the histogram to get probabilities\n",
    "    histogram_probs = histogram / histogram.sum()\n",
    "\n",
    "    for _ in range(n_samples):\n",
    "        sample = []\n",
    "        for d in range(dim):\n",
    "            # Marginalize histogram along all other dimensions\n",
    "            marginal_probs = histogram_probs.sum(axis=tuple(i for i in range(dim) if i != d))\n",
    "            \n",
    "            # Normalize marginal probabilities to sum to 1\n",
    "            marginal_probs /= marginal_probs.sum()\n",
    "            \n",
    "            # Choose a bin based on the marginal probabilities\n",
    "            bin_idx = np.random.choice(len(edges[d]) - 1, p=marginal_probs)\n",
    "            \n",
    "            # Sample uniformly within the chosen bin\n",
    "            sample.append(np.random.uniform(edges[d][bin_idx], edges[d][bin_idx + 1]))\n",
    "        \n",
    "        samples.append(sample)\n",
    "    return np.array(samples)\n"
   ]
  },
  {
   "cell_type": "code",
   "execution_count": 5,
   "metadata": {},
   "outputs": [],
   "source": [
    "# histogram with bin size\n",
    "histogram, edges = fit_2d_histogram(x_digits_2d, bin_size=10)\n",
    "\n",
    "# Evaluate MMD for histogram model\n",
    "generated_histogram_data_2d = generate_histogram_samples(histogram, edges, n_samples=1000)\n",
    "# Map 2D samples back to the original 64D space using the inverse PCA transform\n",
    "generated_histogram_data_64d = pca.inverse_transform(generated_histogram_data_2d)"
   ]
  },
  {
   "cell_type": "markdown",
   "metadata": {},
   "source": [
    "### Single Gaussian"
   ]
  },
  {
   "cell_type": "code",
   "execution_count": 6,
   "metadata": {},
   "outputs": [],
   "source": [
    "mean = np.mean(x_digits, axis=0)\n",
    "covariance = np.cov(x_digits, rowvar=False)\n",
    "\n",
    "def generate_gaussian_samples(mean, covariance, n_samples):\n",
    "    return np.random.multivariate_normal(mean, covariance, n_samples)\n"
   ]
  },
  {
   "cell_type": "code",
   "execution_count": 7,
   "metadata": {},
   "outputs": [],
   "source": [
    "# data from single Gaussian model\n",
    "generated_data_gaussian = generate_gaussian_samples(mean, covariance, n_samples=1000)\n"
   ]
  },
  {
   "cell_type": "markdown",
   "metadata": {},
   "source": [
    "### GMM"
   ]
  },
  {
   "cell_type": "code",
   "execution_count": 8,
   "metadata": {},
   "outputs": [],
   "source": [
    "def fit_gmm(X, n_components):\n",
    "    gmm = GaussianMixture(n_components=n_components, random_state=1)\n",
    "    gmm.fit(X)\n",
    "    return gmm\n",
    "\n",
    "# Generate samples from GMM\n",
    "def generate_gmm_samples(gmm, n_samples):\n",
    "    return gmm.sample(n_samples)[0]"
   ]
  },
  {
   "cell_type": "code",
   "execution_count": 9,
   "metadata": {},
   "outputs": [],
   "source": [
    "# Fit GMM with 10 clusters\n",
    "gmm = fit_gmm(x_digits, n_components=10)\n",
    "\n",
    "# data from GMM\n",
    "generated_data_gmm = generate_gmm_samples(gmm, n_samples=1000)"
   ]
  },
  {
   "cell_type": "markdown",
   "metadata": {},
   "source": [
    "### KDE"
   ]
  },
  {
   "cell_type": "code",
   "execution_count": 10,
   "metadata": {},
   "outputs": [],
   "source": [
    "def fit_kde(x, bandwidth):\n",
    "    kde = KernelDensity(kernel='gaussian', bandwidth=bandwidth)\n",
    "    kde.fit(x)\n",
    "    return kde\n",
    "\n",
    "# Generate samples from KDE\n",
    "def generate_kde_samples(kde, n_samples):\n",
    "    indices = np.random.choice(len(x_digits), n_samples)\n",
    "    return x_digits[indices] + kde.sample(n_samples)"
   ]
  },
  {
   "cell_type": "code",
   "execution_count": 11,
   "metadata": {},
   "outputs": [],
   "source": [
    "# Fit KDE with a specified bandwidth\n",
    "kde = fit_kde(x_digits, bandwidth=1.0)\n",
    "\n",
    "generated_data_kde = generate_kde_samples(kde, n_samples=1000)"
   ]
  },
  {
   "cell_type": "markdown",
   "metadata": {},
   "source": [
    "### MMD"
   ]
  },
  {
   "cell_type": "code",
   "execution_count": 12,
   "metadata": {},
   "outputs": [],
   "source": [
    "def squared_exponential_kernel(x, y, sigma=1.0):\n",
    "    return np.exp(-np.linalg.norm(x - y) ** 2 / (2 * sigma ** 2))\n",
    "\n",
    "def mmd(X, Y, kernel_func, **kwargs):\n",
    "    m, n = len(X), len(Y)\n",
    "    XX = np.mean([kernel_func(x, x_prime, **kwargs) for x in X for x_prime in X])\n",
    "    YY = np.mean([kernel_func(y, y_prime, **kwargs) for y in Y for y_prime in Y])\n",
    "    XY = np.mean([kernel_func(x, y, **kwargs) for x in X for y in Y])\n",
    "    return XX + YY - 2 * XY\n"
   ]
  },
  {
   "cell_type": "code",
   "execution_count": 13,
   "metadata": {},
   "outputs": [
    {
     "name": "stdout",
     "output_type": "stream",
     "text": [
      "MMD for Histogram model: 0.0057\n",
      "MMD for Gaussian model: 0.0032\n",
      "MMD for GMM model: 0.00322\n",
      "MMD for KDE model: 0.00322\n"
     ]
    }
   ],
   "source": [
    "x_train, x_test, y_train, y_test = train_test_split(x_digits, y_digits, train_size=0.75, random_state=0)\n",
    "\n",
    "kernel_func=squared_exponential_kernel\n",
    "\n",
    "# Evaluate MMD for 2-d histogram\n",
    "mmd_histogram = mmd(x_test, generated_histogram_data_64d, kernel_func)\n",
    "\n",
    "# Evaluate MMD for single Gaussian model\n",
    "mmd_gaussian = mmd(x_test, generated_data_gaussian, kernel_func)\n",
    "\n",
    "# Evaluate MMD for GMM\n",
    "mmd_gmm = mmd(x_test, generated_data_gmm, kernel_func)\n",
    "\n",
    "# Evaluate MMD for GMM\n",
    "mmd_kde = mmd(x_test, generated_data_kde, kernel_func)\n",
    "\n",
    "print(f\"MMD for Histogram model: {mmd_histogram:.4f}\")\n",
    "print(f\"MMD for Gaussian model: {mmd_gaussian:.4f}\")\n",
    "print(f\"MMD for GMM model: {mmd_gmm:.5f}\")\n",
    "print(f\"MMD for KDE model: {mmd_kde:.5f}\")"
   ]
  },
  {
   "cell_type": "markdown",
   "metadata": {},
   "source": [
    "#### Plot"
   ]
  },
  {
   "cell_type": "code",
   "execution_count": 14,
   "metadata": {},
   "outputs": [
    {
     "data": {
      "image/png": "[encoded data removed]",
      "text/plain": [
       "<Figure size 1000x200 with 10 Axes>"
      ]
     },
     "metadata": {},
     "output_type": "display_data"
    },
    {
     "data": {
      "image/png": "[encoded data removed]",
      "text/plain": [
       "<Figure size 1000x200 with 10 Axes>"
      ]
     },
     "metadata": {},
     "output_type": "display_data"
    },
    {
     "data": {
      "image/png": "[encoded data removed]",
      "text/plain": [
       "<Figure size 1000x200 with 10 Axes>"
      ]
     },
     "metadata": {},
     "output_type": "display_data"
    },
    {
     "data": {
      "image/png": "[encoded data removed]",
      "text/plain": [
       "<Figure size 1000x200 with 10 Axes>"
      ]
     },
     "metadata": {},
     "output_type": "display_data"
    }
   ],
   "source": [
    "# To plot generated samples\n",
    "def plot_generated_digits(data, title=\"Generated Data\"):\n",
    "    n = min(10, data.shape[0])\n",
    "    plt.figure(figsize=(10, 2))\n",
    "    for i in range(n):\n",
    "        plt.subplot(1, n, i + 1)\n",
    "        plt.imshow(data[i].reshape(8, 8), cmap=\"gray\")\n",
    "        plt.axis(\"off\")\n",
    "    plt.suptitle(title)\n",
    "    plt.show()\n",
    "\n",
    "plot_generated_digits(generated_histogram_data_64d, \"Generated Data from 2D Histogram\")\n",
    "plot_generated_digits(generated_data_gaussian, \"Generated Data from Single Gaussian\")\n",
    "plot_generated_digits(generated_data_gmm, \"Generated Data from GMM\")\n",
    "plot_generated_digits(generated_data_kde, \"Generated Data from KDE\")"
   ]
  },
  {
   "cell_type": "markdown",
   "metadata": {},
   "source": [
    "### Random forest classifier"
   ]
  },
  {
   "cell_type": "code",
   "execution_count": 15,
   "metadata": {},
   "outputs": [],
   "source": [
    "def train_random_forest(X, y):\n",
    "    clf = RandomForestClassifier(random_state=0)\n",
    "    clf.fit(X, y)\n",
    "    return clf\n",
    "\n",
    "# Train classifier on original dataset\n",
    "clf = train_random_forest(x_train, y_train)\n"
   ]
  },
  {
   "cell_type": "code",
   "execution_count": 16,
   "metadata": {},
   "outputs": [
    {
     "name": "stdout",
     "output_type": "stream",
     "text": [
      "Approximate recognizability accuracy for 2D Histogram: 0.1040\n",
      "Approximate recognizability accuracy for Single Gaussian: 0.1000\n",
      "Approximate recognizability accuracy for GMM: 0.1020\n",
      "Approximate recognizability accuracy for KDE: 0.1000\n"
     ]
    }
   ],
   "source": [
    "# train a RandomForestClassifier on the original dataset\n",
    "rf_classifier = RandomForestClassifier(n_estimators=100, random_state=0)\n",
    "rf_classifier.fit(x_digits, y_digits)\n",
    "\n",
    "# Step 4: Classify generated samples to check recognizability\n",
    "def evaluate(model_name, generated_data):\n",
    "    labels_pred = rf_classifier.predict(generated_data)\n",
    "    accuracy = accuracy_score(y_digits[:len(labels_pred)], labels_pred)\n",
    "    print(f\"Approximate recognizability accuracy for {model_name}: {accuracy:.4f}\")\n",
    "\n",
    "# Evaluate accuracy of generated samples\n",
    "evaluate(\"2D Histogram\", generated_histogram_data_64d)\n",
    "evaluate(\"Single Gaussian\", generated_data_gaussian)\n",
    "evaluate(\"GMM\", generated_data_gmm)\n",
    "evaluate(\"KDE\", generated_data_kde)\n",
    "\n"
   ]
  }
 ],
 "metadata": {
  "kernelspec": {
   "display_name": "Python 3",
   "language": "python",
   "name": "python3"
  },
  "language_info": {
   "codemirror_mode": {
    "name": "ipython",
    "version": 3
   },
   "file_extension": ".py",
   "mimetype": "text/x-python",
   "name": "python",
   "nbconvert_exporter": "python",
   "pygments_lexer": "ipython3",
   "version": "3.12.7"
  }
 },
 "nbformat": 4,
 "nbformat_minor": 2
}
